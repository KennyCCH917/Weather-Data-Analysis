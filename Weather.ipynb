{
  "nbformat": 4,
  "nbformat_minor": 0,
  "metadata": {
    "colab": {
      "provenance": []
    },
    "kernelspec": {
      "name": "python3",
      "display_name": "Python 3"
    },
    "language_info": {
      "name": "python"
    }
  },
  "cells": [
    {
      "cell_type": "code",
      "execution_count": 2,
      "metadata": {
        "colab": {
          "base_uri": "https://localhost:8080/"
        },
        "id": "vjyb76rLH9hV",
        "outputId": "bf4295d1-d791-4205-ade8-4fc56942805c"
      },
      "outputs": [
        {
          "output_type": "stream",
          "name": "stdout",
          "text": [
            "Collecting meteostat\n",
            "  Downloading meteostat-1.7.4-py3-none-any.whl.metadata (4.6 kB)\n",
            "Requirement already satisfied: pandas in /usr/local/lib/python3.12/dist-packages (2.2.2)\n",
            "Requirement already satisfied: pytz in /usr/local/lib/python3.12/dist-packages (from meteostat) (2025.2)\n",
            "Requirement already satisfied: numpy in /usr/local/lib/python3.12/dist-packages (from meteostat) (2.0.2)\n",
            "Requirement already satisfied: python-dateutil>=2.8.2 in /usr/local/lib/python3.12/dist-packages (from pandas) (2.9.0.post0)\n",
            "Requirement already satisfied: tzdata>=2022.7 in /usr/local/lib/python3.12/dist-packages (from pandas) (2025.2)\n",
            "Requirement already satisfied: six>=1.5 in /usr/local/lib/python3.12/dist-packages (from python-dateutil>=2.8.2->pandas) (1.17.0)\n",
            "Downloading meteostat-1.7.4-py3-none-any.whl (33 kB)\n",
            "Installing collected packages: meteostat\n",
            "Successfully installed meteostat-1.7.4\n"
          ]
        }
      ],
      "source": [
        "!pip install meteostat pandas\n",
        "from datetime import datetime\n",
        "import meteostat as mt\n",
        "import pandas as pd"
      ]
    },
    {
      "cell_type": "code",
      "source": [
        "start = datetime(1990, 1, 1)\n",
        "end = datetime(2025, 8, 25)"
      ],
      "metadata": {
        "id": "v21Qmgi3IB5-"
      },
      "execution_count": 3,
      "outputs": []
    },
    {
      "cell_type": "code",
      "source": [
        "location_id = '45005'"
      ],
      "metadata": {
        "id": "qpbukvQxILcB"
      },
      "execution_count": 4,
      "outputs": []
    },
    {
      "cell_type": "code",
      "source": [
        "data = mt.Daily(location_id, start, end)\n",
        "data = data.fetch()"
      ],
      "metadata": {
        "id": "g22r5m_aINS7"
      },
      "execution_count": 6,
      "outputs": []
    },
    {
      "cell_type": "code",
      "source": [
        "df = pd.DataFrame(data)"
      ],
      "metadata": {
        "id": "5xkRYZQDIPU8"
      },
      "execution_count": 7,
      "outputs": []
    },
    {
      "cell_type": "code",
      "source": [
        "print(df.head())"
      ],
      "metadata": {
        "colab": {
          "base_uri": "https://localhost:8080/"
        },
        "id": "MxqKdby-Ibsx",
        "outputId": "ff60ba37-2d48-4d5a-9152-77c33aea91f2"
      },
      "execution_count": 8,
      "outputs": [
        {
          "output_type": "stream",
          "name": "stdout",
          "text": [
            "            tavg  tmin  tmax  prcp  snow  wdir  wspd  wpgt  pres  tsun\n",
            "time                                                                  \n",
            "1990-01-01  16.4  14.6  17.4  <NA>  <NA>  <NA>  <NA>  <NA>  <NA>  <NA>\n",
            "1990-01-02  15.6  14.7  17.4  <NA>  <NA>  <NA>  <NA>  <NA>  <NA>  <NA>\n",
            "1990-01-03  15.8  14.7  17.2   0.0  <NA>  <NA>  <NA>  <NA>  <NA>  <NA>\n",
            "1990-01-04  16.0  15.3  16.8   0.0  <NA>  <NA>  <NA>  <NA>  <NA>  <NA>\n",
            "1990-01-05  17.1  15.6  18.2  <NA>  <NA>  <NA>  <NA>  <NA>  <NA>  <NA>\n"
          ]
        }
      ]
    }
  ]
}